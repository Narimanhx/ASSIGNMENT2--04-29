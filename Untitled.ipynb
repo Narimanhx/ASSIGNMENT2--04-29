{
 "cells": [
  {
   "cell_type": "code",
   "execution_count": 1,
   "id": "59e4303d-2877-448e-bac2-9c8f21a437f6",
   "metadata": {},
   "outputs": [
    {
     "name": "stdout",
     "output_type": "stream",
     "text": [
      "/Users/nariman/Documents/ASSIGNMENT2--04-29\n"
     ]
    }
   ],
   "source": [
    "import os \n",
    "import csv\n",
    "current_dir = os.getcwd()\n",
    "print(current_dir)"
   ]
  },
  {
   "cell_type": "code",
   "execution_count": 2,
   "id": "48658325-fc7f-44fd-84db-f8b8d07fe787",
   "metadata": {},
   "outputs": [
    {
     "name": "stdout",
     "output_type": "stream",
     "text": [
      "/Users/nariman/Documents/ASSIGNMENT2--04-29/budget_data.csv\n"
     ]
    }
   ],
   "source": [
    "path_budget_data = os.path.join(current_dir,\"budget_data.csv\")\n",
    "print(path_budget_data)"
   ]
  },
  {
   "cell_type": "code",
   "execution_count": 3,
   "id": "af2adeab-946f-4613-94ca-d454514d6deb",
   "metadata": {},
   "outputs": [
    {
     "data": {
      "text/plain": [
       "[{'Date': 'Jan-2010', 'Profit/Losses': '867884'},\n",
       " {'Date': 'Feb-2010', 'Profit/Losses': '984655'},\n",
       " {'Date': 'Mar-2010', 'Profit/Losses': '322013'},\n",
       " {'Date': 'Apr-2010', 'Profit/Losses': '-69417'},\n",
       " {'Date': 'May-2010', 'Profit/Losses': '310503'},\n",
       " {'Date': 'Jun-2010', 'Profit/Losses': '522857'},\n",
       " {'Date': 'Jul-2010', 'Profit/Losses': '1033096'},\n",
       " {'Date': 'Aug-2010', 'Profit/Losses': '604885'},\n",
       " {'Date': 'Sep-2010', 'Profit/Losses': '-216386'},\n",
       " {'Date': 'Oct-2010', 'Profit/Losses': '477532'},\n",
       " {'Date': 'Nov-2010', 'Profit/Losses': '893810'},\n",
       " {'Date': 'Dec-2010', 'Profit/Losses': '-80353'},\n",
       " {'Date': 'Jan-2011', 'Profit/Losses': '779806'},\n",
       " {'Date': 'Feb-2011', 'Profit/Losses': '-335203'},\n",
       " {'Date': 'Mar-2011', 'Profit/Losses': '697845'},\n",
       " {'Date': 'Apr-2011', 'Profit/Losses': '793163'},\n",
       " {'Date': 'May-2011', 'Profit/Losses': '485070'},\n",
       " {'Date': 'Jun-2011', 'Profit/Losses': '584122'},\n",
       " {'Date': 'Jul-2011', 'Profit/Losses': '62729'},\n",
       " {'Date': 'Aug-2011', 'Profit/Losses': '668179'},\n",
       " {'Date': 'Sep-2011', 'Profit/Losses': '899906'},\n",
       " {'Date': 'Oct-2011', 'Profit/Losses': '834719'},\n",
       " {'Date': 'Nov-2011', 'Profit/Losses': '132003'},\n",
       " {'Date': 'Dec-2011', 'Profit/Losses': '309978'},\n",
       " {'Date': 'Jan-2012', 'Profit/Losses': '-755566'},\n",
       " {'Date': 'Feb-2012', 'Profit/Losses': '1170593'},\n",
       " {'Date': 'Mar-2012', 'Profit/Losses': '252788'},\n",
       " {'Date': 'Apr-2012', 'Profit/Losses': '1151518'},\n",
       " {'Date': 'May-2012', 'Profit/Losses': '817256'},\n",
       " {'Date': 'Jun-2012', 'Profit/Losses': '570757'},\n",
       " {'Date': 'Jul-2012', 'Profit/Losses': '506702'},\n",
       " {'Date': 'Aug-2012', 'Profit/Losses': '-1022534'},\n",
       " {'Date': 'Sep-2012', 'Profit/Losses': '475062'},\n",
       " {'Date': 'Oct-2012', 'Profit/Losses': '779976'},\n",
       " {'Date': 'Nov-2012', 'Profit/Losses': '144175'},\n",
       " {'Date': 'Dec-2012', 'Profit/Losses': '542494'},\n",
       " {'Date': 'Jan-2013', 'Profit/Losses': '359333'},\n",
       " {'Date': 'Feb-2013', 'Profit/Losses': '321469'},\n",
       " {'Date': 'Mar-2013', 'Profit/Losses': '67780'},\n",
       " {'Date': 'Apr-2013', 'Profit/Losses': '471435'},\n",
       " {'Date': 'May-2013', 'Profit/Losses': '565603'},\n",
       " {'Date': 'Jun-2013', 'Profit/Losses': '872480'},\n",
       " {'Date': 'Jul-2013', 'Profit/Losses': '789480'},\n",
       " {'Date': 'Aug-2013', 'Profit/Losses': '999942'},\n",
       " {'Date': 'Sep-2013', 'Profit/Losses': '-1196225'},\n",
       " {'Date': 'Oct-2013', 'Profit/Losses': '268997'},\n",
       " {'Date': 'Nov-2013', 'Profit/Losses': '-687986'},\n",
       " {'Date': 'Dec-2013', 'Profit/Losses': '1150461'},\n",
       " {'Date': 'Jan-2014', 'Profit/Losses': '682458'},\n",
       " {'Date': 'Feb-2014', 'Profit/Losses': '617856'},\n",
       " {'Date': 'Mar-2014', 'Profit/Losses': '824098'},\n",
       " {'Date': 'Apr-2014', 'Profit/Losses': '581943'},\n",
       " {'Date': 'May-2014', 'Profit/Losses': '132864'},\n",
       " {'Date': 'Jun-2014', 'Profit/Losses': '448062'},\n",
       " {'Date': 'Jul-2014', 'Profit/Losses': '689161'},\n",
       " {'Date': 'Aug-2014', 'Profit/Losses': '800701'},\n",
       " {'Date': 'Sep-2014', 'Profit/Losses': '1166643'},\n",
       " {'Date': 'Oct-2014', 'Profit/Losses': '947333'},\n",
       " {'Date': 'Nov-2014', 'Profit/Losses': '578668'},\n",
       " {'Date': 'Dec-2014', 'Profit/Losses': '988505'},\n",
       " {'Date': 'Jan-2015', 'Profit/Losses': '1139715'},\n",
       " {'Date': 'Feb-2015', 'Profit/Losses': '1029471'},\n",
       " {'Date': 'Mar-2015', 'Profit/Losses': '687533'},\n",
       " {'Date': 'Apr-2015', 'Profit/Losses': '-524626'},\n",
       " {'Date': 'May-2015', 'Profit/Losses': '158620'},\n",
       " {'Date': 'Jun-2015', 'Profit/Losses': '87795'},\n",
       " {'Date': 'Jul-2015', 'Profit/Losses': '423389'},\n",
       " {'Date': 'Aug-2015', 'Profit/Losses': '840723'},\n",
       " {'Date': 'Sep-2015', 'Profit/Losses': '568529'},\n",
       " {'Date': 'Oct-2015', 'Profit/Losses': '332067'},\n",
       " {'Date': 'Nov-2015', 'Profit/Losses': '989499'},\n",
       " {'Date': 'Dec-2015', 'Profit/Losses': '778237'},\n",
       " {'Date': 'Jan-2016', 'Profit/Losses': '650000'},\n",
       " {'Date': 'Feb-2016', 'Profit/Losses': '-1100387'},\n",
       " {'Date': 'Mar-2016', 'Profit/Losses': '-174946'},\n",
       " {'Date': 'Apr-2016', 'Profit/Losses': '757143'},\n",
       " {'Date': 'May-2016', 'Profit/Losses': '445709'},\n",
       " {'Date': 'Jun-2016', 'Profit/Losses': '712961'},\n",
       " {'Date': 'Jul-2016', 'Profit/Losses': '-1163797'},\n",
       " {'Date': 'Aug-2016', 'Profit/Losses': '569899'},\n",
       " {'Date': 'Sep-2016', 'Profit/Losses': '768450'},\n",
       " {'Date': 'Oct-2016', 'Profit/Losses': '102685'},\n",
       " {'Date': 'Nov-2016', 'Profit/Losses': '795914'},\n",
       " {'Date': 'Dec-2016', 'Profit/Losses': '60988'},\n",
       " {'Date': 'Jan-2017', 'Profit/Losses': '138230'},\n",
       " {'Date': 'Feb-2017', 'Profit/Losses': '671099'}]"
      ]
     },
     "execution_count": 3,
     "metadata": {},
     "output_type": "execute_result"
    }
   ],
   "source": [
    " def read_csv_file(file_path):\n",
    "        data = []\n",
    "        with open(file_path, \"r\") as file:\n",
    "            reader = csv.DictReader(file)\n",
    "            for row in reader:\n",
    "                data.append(dict(row))\n",
    "        return data\n",
    "read_csv_file(path_budget_data)"
   ]
  },
  {
   "cell_type": "code",
   "execution_count": 4,
   "id": "e1fd9739-8729-48fb-aa01-56c77efe71c1",
   "metadata": {},
   "outputs": [
    {
     "name": "stdout",
     "output_type": "stream",
     "text": [
      "Total Months: 86\n"
     ]
    }
   ],
   "source": [
    "with open('budget_data.csv', 'r') as csvfile:\n",
    "    \n",
    "    reader = csv.reader(csvfile)\n",
    "    \n",
    "    total_months = sum(1 for row in reader) - 1 \n",
    "    \n",
    "print(\"Total Months:\", total_months)\n",
    "\n",
    "#The total number of months included in the dataset."
   ]
  },
  {
   "cell_type": "code",
   "execution_count": 5,
   "id": "2ab44b04-35b0-43a8-8125-a7c0072f8858",
   "metadata": {},
   "outputs": [
    {
     "name": "stdout",
     "output_type": "stream",
     "text": [
      "Net Total: 38382578\n"
     ]
    }
   ],
   "source": [
    "with open('budget_data.csv', 'r') as csvfile:\n",
    "    \n",
    "    reader = csv.reader(csvfile)\n",
    "    next(reader)\n",
    "        \n",
    "    net_total = 0\n",
    "        \n",
    "    for row in reader:\n",
    "        net_total += int(row[1])\n",
    "            \n",
    "print(\"Net Total:\", net_total)\n",
    "\n",
    "#The net total amount of Profit/Losses over the entire period."
   ]
  },
  {
   "cell_type": "code",
   "execution_count": 6,
   "id": "d1ed1a96-ccdc-4c07-8eda-a98642371bc6",
   "metadata": {},
   "outputs": [
    {
     "name": "stdout",
     "output_type": "stream",
     "text": [
      "Average  Change: -2315.12\n"
     ]
    }
   ],
   "source": [
    "import csv\n",
    "\n",
    "def get_changes(numbers):\n",
    "    changes = []\n",
    "    for i in range(1, len(numbers)):\n",
    "        current_number = numbers[i]\n",
    "        previous_number = numbers[i-1]\n",
    "        change = current_number - previous_number\n",
    "        changes.append(change)\n",
    "    return changes\n",
    "\n",
    "def calculate_average(changes):\n",
    "    average_change = round(sum(changes) / len(changes), 2)\n",
    "    return average_change\n",
    "\n",
    "with open('budget_data.csv', 'r') as file:\n",
    "    csv_reader = csv.reader(file)\n",
    "    header = next(csv_reader)\n",
    "\n",
    "    profit_loss_data = [int(row[1]) for row in csv_reader]\n",
    "\n",
    "    changes = get_changes(profit_loss_data)\n",
    "    average_change = calculate_average(changes)\n",
    "\n",
    "    print(\"Average  Change:\", average_change)\n",
    "#The average of the changes in Profit/Losses over the entire period."
   ]
  },
  {
   "cell_type": "code",
   "execution_count": 7,
   "id": "9808422f-c5e5-4027-870b-73426d08321e",
   "metadata": {},
   "outputs": [
    {
     "name": "stdout",
     "output_type": "stream",
     "text": [
      "The greatest increase in profits: Feb-2012 ($ 1926159 )\n"
     ]
    }
   ],
   "source": [
    "import csv\n",
    "\n",
    "def get_changes(numbers):\n",
    "    changes = []\n",
    "    for i in range(1, len(numbers)):\n",
    "        current_number = numbers[i]\n",
    "        previous_number = numbers[i-1]\n",
    "        change = current_number - previous_number\n",
    "        changes.append(change)\n",
    "    return changes\n",
    "\n",
    "with open('budget_data.csv', 'r') as file:\n",
    "    csv_reader = csv.reader(file)\n",
    "    header = next(csv_reader)\n",
    "\n",
    "    dates = []\n",
    "    profit_loss_data = []\n",
    "    for row in csv_reader:\n",
    "        dates.append(row[0])\n",
    "        profit_loss_data.append(int(row[1]))\n",
    "\n",
    "    changes = get_changes(profit_loss_data)\n",
    "\n",
    "    max_change = max(changes)\n",
    "    max_index = changes.index(max_change)\n",
    "    greatest_increase_date = dates[max_index + 1]\n",
    "    greatest_increase_amount = max_change\n",
    "\n",
    "    print(\"The greatest increase in profits:\", greatest_increase_date, \"($\", greatest_increase_amount, \")\")\n",
    "\n",
    "#The greatest increase in profits (date and amount) over the entire period.\n"
   ]
  },
  {
   "cell_type": "code",
   "execution_count": 9,
   "id": "de5b0d05-41c5-4580-9b6c-7e203c053730",
   "metadata": {},
   "outputs": [
    {
     "name": "stdout",
     "output_type": "stream",
     "text": [
      "The greatest decrease in losses: Sep-2013 ($ -2196167 )\n"
     ]
    }
   ],
   "source": [
    "import csv\n",
    "\n",
    "def get_changes(numbers):\n",
    "    changes = []\n",
    "    for i in range(1, len(numbers)):\n",
    "        current_number = numbers[i]\n",
    "        previous_number = numbers[i-1]\n",
    "        change = current_number - previous_number\n",
    "        changes.append(change)\n",
    "    return changes\n",
    "\n",
    "with open('budget_data.csv', 'r') as file:\n",
    "    csv_reader = csv.reader(file)\n",
    "    header = next(csv_reader)\n",
    "\n",
    "    dates = []\n",
    "    profit_loss_data = []\n",
    "    for row in csv_reader:\n",
    "        dates.append(row[0])\n",
    "        profit_loss_data.append(int(row[1]))\n",
    "\n",
    "    changes = get_changes(profit_loss_data)\n",
    "\n",
    "    min_change = min(changes)\n",
    "    min_index = changes.index(min_change)\n",
    "    greatest_decrease_date = dates[min_index + 1] \n",
    "    greatest_decrease_amount = min_change\n",
    "\n",
    "    print(\"The greatest decrease in losses:\", greatest_decrease_date, \"($\", greatest_decrease_amount, \")\")\n",
    "\n",
    "#The greatest decrease in losses (date and amount) over the entire period.\n"
   ]
  },
  {
   "cell_type": "code",
   "execution_count": null,
   "id": "f1d5b133-fa7c-4429-a985-31c61fb043f5",
   "metadata": {},
   "outputs": [],
   "source": []
  }
 ],
 "metadata": {
  "kernelspec": {
   "display_name": "Python 3 (ipykernel)",
   "language": "python",
   "name": "python3"
  },
  "language_info": {
   "codemirror_mode": {
    "name": "ipython",
    "version": 3
   },
   "file_extension": ".py",
   "mimetype": "text/x-python",
   "name": "python",
   "nbconvert_exporter": "python",
   "pygments_lexer": "ipython3",
   "version": "3.9.12"
  }
 },
 "nbformat": 4,
 "nbformat_minor": 5
}
