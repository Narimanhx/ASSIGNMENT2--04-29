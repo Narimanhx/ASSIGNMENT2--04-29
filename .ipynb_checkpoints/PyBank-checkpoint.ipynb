{
 "cells": [
  {
   "cell_type": "code",
   "execution_count": null,
   "id": "59e4303d-2877-448e-bac2-9c8f21a437f6",
   "metadata": {},
   "outputs": [],
   "source": [
    "import os \n",
    "import csv\n",
    "current_dir = os.getcwd()\n",
    "print(current_dir)"
   ]
  },
  {
   "cell_type": "code",
   "execution_count": null,
   "id": "48658325-fc7f-44fd-84db-f8b8d07fe787",
   "metadata": {},
   "outputs": [],
   "source": [
    "path_budget_data = os.path.join(current_dir,\"budget_data.csv\")\n",
    "print(path_budget_data)"
   ]
  },
  {
   "cell_type": "code",
   "execution_count": null,
   "id": "af2adeab-946f-4613-94ca-d454514d6deb",
   "metadata": {},
   "outputs": [],
   "source": [
    " def read_csv_file(file_path):\n",
    "        data = []\n",
    "        with open(file_path, \"r\") as file:\n",
    "            reader = csv.DictReader(file)\n",
    "            for row in reader:\n",
    "                data.append(dict(row))\n",
    "        return data\n",
    "read_csv_file(path_budget_data)"
   ]
  },
  {
   "cell_type": "code",
   "execution_count": null,
   "id": "e1fd9739-8729-48fb-aa01-56c77efe71c1",
   "metadata": {},
   "outputs": [],
   "source": [
    "with open('budget_data.csv', 'r') as csvfile:\n",
    "    \n",
    "    reader = csv.reader(csvfile)\n",
    "    \n",
    "    total_months = sum(1 for row in reader) - 1 \n",
    "    \n",
    "print(\"Total Months:\", total_months)\n",
    "\n",
    "#The total number of months included in the dataset."
   ]
  },
  {
   "cell_type": "code",
   "execution_count": null,
   "id": "2ab44b04-35b0-43a8-8125-a7c0072f8858",
   "metadata": {},
   "outputs": [],
   "source": [
    "with open('budget_data.csv', 'r') as csvfile:\n",
    "    \n",
    "    reader = csv.reader(csvfile)\n",
    "    next(reader)\n",
    "        \n",
    "    net_total = 0\n",
    "        \n",
    "    for row in reader:\n",
    "        net_total += int(row[1])\n",
    "            \n",
    "print(\"Net Total:\", net_total)\n",
    "\n",
    "#The net total amount of Profit/Losses over the entire period."
   ]
  },
  {
   "cell_type": "code",
   "execution_count": null,
   "id": "d1ed1a96-ccdc-4c07-8eda-a98642371bc6",
   "metadata": {},
   "outputs": [],
   "source": [
    "import csv\n",
    "\n",
    "def get_changes(numbers):\n",
    "    changes = []\n",
    "    for i in range(1, len(numbers)):\n",
    "        current_number = numbers[i]\n",
    "        previous_number = numbers[i-1]\n",
    "        change = current_number - previous_number\n",
    "        changes.append(change)\n",
    "    return changes\n",
    "\n",
    "def calculate_average(changes):\n",
    "    average_change = round(sum(changes) / len(changes), 2)\n",
    "    return average_change\n",
    "\n",
    "with open('budget_data.csv', 'r') as file:\n",
    "    csv_reader = csv.reader(file)\n",
    "    header = next(csv_reader)\n",
    "\n",
    "    profit_loss_data = [int(row[1]) for row in csv_reader]\n",
    "\n",
    "    changes = get_changes(profit_loss_data)\n",
    "    average_change = calculate_average(changes)\n",
    "\n",
    "    print(\"Average  Change:\", average_change)\n",
    "#The average of the changes in Profit/Losses over the entire period."
   ]
  },
  {
   "cell_type": "code",
   "execution_count": null,
   "id": "9808422f-c5e5-4027-870b-73426d08321e",
   "metadata": {},
   "outputs": [],
   "source": [
    "import csv\n",
    "\n",
    "def get_changes(numbers):\n",
    "    changes = []\n",
    "    for i in range(1, len(numbers)):\n",
    "        current_number = numbers[i]\n",
    "        previous_number = numbers[i-1]\n",
    "        change = current_number - previous_number\n",
    "        changes.append(change)\n",
    "    return changes\n",
    "\n",
    "with open('budget_data.csv', 'r') as file:\n",
    "    csv_reader = csv.reader(file)\n",
    "    header = next(csv_reader)\n",
    "\n",
    "    dates = []\n",
    "    profit_loss_data = []\n",
    "    for row in csv_reader:\n",
    "        dates.append(row[0])\n",
    "        profit_loss_data.append(int(row[1]))\n",
    "\n",
    "    changes = get_changes(profit_loss_data)\n",
    "\n",
    "    max_change = max(changes)\n",
    "    max_index = changes.index(max_change)\n",
    "    greatest_increase_date = dates[max_index + 1]\n",
    "    greatest_increase_amount = max_change\n",
    "\n",
    "    print(\"The greatest increase in profits:\", greatest_increase_date, \"($\", greatest_increase_amount, \")\")\n",
    "\n",
    "#The greatest increase in profits (date and amount) over the entire period.\n"
   ]
  },
  {
   "cell_type": "code",
   "execution_count": null,
   "id": "de5b0d05-41c5-4580-9b6c-7e203c053730",
   "metadata": {},
   "outputs": [],
   "source": [
    "import csv\n",
    "\n",
    "def get_changes(numbers):\n",
    "    changes = []\n",
    "    for i in range(1, len(numbers)):\n",
    "        current_number = numbers[i]\n",
    "        previous_number = numbers[i-1]\n",
    "        change = current_number - previous_number\n",
    "        changes.append(change)\n",
    "    return changes\n",
    "\n",
    "with open('budget_data.csv', 'r') as file:\n",
    "    csv_reader = csv.reader(file)\n",
    "    header = next(csv_reader)\n",
    "\n",
    "    dates = []\n",
    "    profit_loss_data = []\n",
    "    for row in csv_reader:\n",
    "        dates.append(row[0])\n",
    "        profit_loss_data.append(int(row[1]))\n",
    "\n",
    "    changes = get_changes(profit_loss_data)\n",
    "\n",
    "    min_change = min(changes)\n",
    "    min_index = changes.index(min_change)\n",
    "    greatest_decrease_date = dates[min_index + 1] \n",
    "    greatest_decrease_amount = min_change\n",
    "\n",
    "    print(\"The greatest decrease in losses:\", greatest_decrease_date, \"($\", greatest_decrease_amount, \")\")\n",
    "\n",
    "#The greatest decrease in losses (date and amount) over the entire period.\n"
   ]
  },
  {
   "cell_type": "code",
   "execution_count": null,
   "id": "f1d5b133-fa7c-4429-a985-31c61fb043f5",
   "metadata": {},
   "outputs": [],
   "source": []
  }
 ],
 "metadata": {
  "kernelspec": {
   "display_name": "Python 3 (ipykernel)",
   "language": "python",
   "name": "python3"
  },
  "language_info": {
   "codemirror_mode": {
    "name": "ipython",
    "version": 3
   },
   "file_extension": ".py",
   "mimetype": "text/x-python",
   "name": "python",
   "nbconvert_exporter": "python",
   "pygments_lexer": "ipython3",
   "version": "3.9.12"
  }
 },
 "nbformat": 4,
 "nbformat_minor": 5
}
